{
 "cells": [
  {
   "cell_type": "markdown",
   "id": "e7509f8b",
   "metadata": {},
   "source": [
    "# Lanczos Method\n",
    "Author: Micheal C. Chen\n",
    "\n",
    "Email: muchuchen03@gmail.com\n",
    "\n",
    "## Task:\n",
    "In this demo I will demonstrate how to implement Lanczos method for exact diagonalization of spin system. And we will use Lanczos method to solve Heisenberg model."
   ]
  },
  {
   "cell_type": "markdown",
   "id": "36d22916",
   "metadata": {},
   "source": [
    "## Bit Operations\n",
    "The most significant part of Exact Diagonalization is to define proper bit operations."
   ]
  },
  {
   "cell_type": "code",
   "execution_count": 2,
   "id": "3704f9fa",
   "metadata": {},
   "outputs": [],
   "source": [
    "def FlipBit(i, n): # Flip n-th bit\n",
    "    return i^(1<<n)\n",
    "\n",
    "def ReadBit(i, n): # Read n-th bit\n",
    "    return (i&(1<<n))>>n"
   ]
  },
  {
   "cell_type": "markdown",
   "id": "a021e455",
   "metadata": {},
   "source": [
    "## Heisenberg Model\n",
    "Consider a 1D chain Heisenberg model with Hamiltonian:\n",
    "$$\n",
    "H = J\\sum_i \\mathbf{S}_i \\cdot \\mathbf{S}_{i+1} = J \\sum_{i=1}^{N}\\left(S_i^{x}S_{i+1}^{x}+S_i^{y}S_{i+1}^{y}+S_i^{z}S_{i+1}^{z}\\right) = J\\sum_i \\left(\\cfrac{S_i^{+}S_{i+1}^{-}+S_i^{-}S_{i+1}^{+}}{2} + S_i^{z}S_{i+1}^{z}\\right)\n",
    "$$\n",
    "In Lanczos method, we should avoid writing the full representation of the Hamiltonian.\n",
    "* Off-diagonal term: $\\cfrac{S_i^{+}S_{i+1}^{-}+S_i^{-}S_{i+1}^{+}}{2}$\n",
    "* Diagonal term: $S_i^{z}S_{i+1}^{z}$"
   ]
  },
  {
   "cell_type": "code",
   "execution_count": 3,
   "id": "35e6473c",
   "metadata": {},
   "outputs": [],
   "source": [
    "import numpy as np\n",
    "import numpy.linalg as LA"
   ]
  },
  {
   "cell_type": "code",
   "execution_count": 4,
   "id": "a24d61af",
   "metadata": {},
   "outputs": [],
   "source": [
    "def GetHopList(Ns):\n",
    "    HopList = []\n",
    "    for i in range(Ns-1):\n",
    "        HopList.append([i, i+1]) # Ordinary Boundary Condition\n",
    "    return HopList\n",
    "\n",
    "def ApplyHeisenberg(Ns, state):\n",
    "    \"\"\"\n",
    "    Apply Heisenberg model Hamiltonian for an given state.\n",
    "    Args:\n",
    "        Ns: Number of sites.\n",
    "        state: Input state vector.\n",
    "    Returns:\n",
    "        result_state: Resulting state vector after applying the Hamiltonian.\n",
    "    \"\"\"\n",
    "    dim = len(state)\n",
    "    HopList = GetHopList(Ns)\n",
    "    result_state = np.zeros(dim, dtype = complex) # initialize a zero vector, add dtype otherwise there will exist 'ComplexWarning'\n",
    "    \n",
    "    for basis in range(dim):\n",
    "        old_config = basis\n",
    "        for idx in range(len(HopList)): \n",
    "            Pos0 = HopList[idx][0]\n",
    "            Pos1 = HopList[idx][1]\n",
    "\n",
    "            if ReadBit(basis, Pos0) != ReadBit(basis, Pos1): # off-diagonal matrix operation results\n",
    "                new_config = FlipBit(old_config, Pos0)\n",
    "                new_config = FlipBit(new_config, Pos1)\n",
    "                result_state[new_config] += 0.5 * J * state[old_config]\n",
    "\n",
    "            result_state[old_config] += (ReadBit(old_config, Pos0)-0.5) * (ReadBit(old_config, Pos1)-0.5) * state[old_config] # diagonal matrix operation results\n",
    "\n",
    "    return result_state\n"
   ]
  },
  {
   "cell_type": "markdown",
   "id": "9ba320f2",
   "metadata": {},
   "source": [
    "Then we set parameters and generate an initial random state as the first Lanczos eigenvector"
   ]
  },
  {
   "cell_type": "code",
   "execution_count": 34,
   "id": "4c28bf4d",
   "metadata": {},
   "outputs": [],
   "source": [
    "Ns = 10 # Number of sites\n",
    "J = 1.0 # Parameter\n",
    "\n",
    "# Generate a random arbitrary state\n",
    "dim = 2**Ns\n",
    "init_state = np.random.rand(dim)+1j * np.random.rand(dim)\n",
    "init_state = init_state/np.sqrt(np.conj(init_state).T @ init_state)"
   ]
  },
  {
   "cell_type": "markdown",
   "id": "713e1a66",
   "metadata": {},
   "source": [
    "## Lanczos Iteration\n",
    "The iterative procedure to construct Lanczos basis $\\{|\\phi_0\\rangle, |\\phi_1\\rangle, \\ldots, |\\phi_n\\rangle\\}$ is :\n",
    "\n",
    "$|\\phi_{m+1}\\rangle = \\cfrac{1}{b_m}\\left(H|\\phi_m\\rangle - a_m |\\phi_m\\rangle-b_{m-1}|\\phi_{m-1}\\rangle\\right)$\n",
    "\n",
    "where $b_m$ is a real number to ensure $\\langle\\phi_m|\\phi_m\\rangle=1$, and $a_m = \\langle \\phi_m|\\phi_m\\rangle$, $|\\phi_{-1}\\rangle=0$, $b_{-1}=0$.\n",
    "\n",
    "We span the Hamiltonian in Lanczos basis and yield a tridiagonal matrix:\n",
    "$$\n",
    "H = \\begin{pmatrix}\n",
    "a_{0} & b_{0} & 0 & 0 & \\cdots & 0 \\\\\n",
    "b_{0} & a_{1} & b_{1} & 0 & \\cdots & \\vdots \\\\\n",
    "0 & b_{1} & a_{2} & b_{2} & \\cdots & 0 \\\\\n",
    "\\vdots & \\ddots & \\ddots & \\ddots & \\ddots & \\vdots \\\\\n",
    "0 & \\cdots & 0 & b_{n-1} & a_{n}\n",
    "\\end{pmatrix}\n",
    "$$\n",
    "\n",
    "Finally we diagonalize the Lanczos matrix to find the ground state energy and low-lying excited states."
   ]
  },
  {
   "cell_type": "code",
   "execution_count": 35,
   "id": "e167b24b",
   "metadata": {},
   "outputs": [],
   "source": [
    "krylov_dim = 20\n",
    "def LanczosIter(Ns, init_state):\n",
    "    \"\"\"\n",
    "    Perform Lanczos iteration steps.\n",
    "    Args:\n",
    "        Ns: Number of sites\n",
    "        init_state: A random initial state for Lanczos iteration.\n",
    "\n",
    "    Returns:\n",
    "        Lanczos basis: A list of Lanczos basis vectors.\n",
    "        a_value: A list of diagonal elements of final tridiagonal matrix.\n",
    "        b_value: A list of off-diagonal elements of final tridiagonal matrix.\n",
    "    \"\"\"\n",
    "    lanczos_basis = []\n",
    "    a_value = []\n",
    "    b_value = []\n",
    "    for i in range(krylov_dim):\n",
    "        if i == 0: # init state is the first Lanczos basis\n",
    "            lanczos_basis.append(init_state)\n",
    "            a_value.append(np.inner(np.conj(init_state), ApplyHeisenberg(Ns, init_state)).real)\n",
    "\n",
    "        if i == 1: #\n",
    "            iter_basis = ApplyHeisenberg(Ns, lanczos_basis[i-1])- a_value[i-1] * lanczos_basis[i-1]\n",
    "            b_value.append(np.sqrt(np.abs(np.inner(np.conj(iter_basis), iter_basis))))\n",
    "            iter_basis = iter_basis/b_value[i-1]\n",
    "            a_value.append(np.inner(np.conj(iter_basis), ApplyHeisenberg(Ns, iter_basis)).real)\n",
    "            lanczos_basis.append(iter_basis)\n",
    "\n",
    "        if i > 1:\n",
    "            iter_basis = ApplyHeisenberg(Ns, lanczos_basis[i-1])- a_value[i-1] * lanczos_basis[i-1] - b_value[i-2]* lanczos_basis[i-2]\n",
    "            b_value.append(np.sqrt(np.abs(np.inner(np.conj(iter_basis), iter_basis))))\n",
    "            iter_basis = iter_basis/b_value[i-1]\n",
    "            a_value.append(np.inner(np.conj(iter_basis), ApplyHeisenberg(Ns, iter_basis)).real)\n",
    "            lanczos_basis.append(iter_basis)\n",
    "\n",
    "    return lanczos_basis, a_value, b_value\n",
    "\n",
    "def LanczosMat(krylov_dim, a_value, b_value):\n",
    "    \"\"\"\n",
    "    Construct Lanczos matrix.\n",
    "    Args:\n",
    "        krylov_dim: Dimension of Krylov subspace.\n",
    "        a_value: A list of diagonal elements of final tridiagonal matrix.\n",
    "        b_value: A list of off-diagonal elements of final tridiagonal matrix.\n",
    "    Returns:\n",
    "        lanczos_mat: Lanczos matrix.\n",
    "    \"\"\"\n",
    "    lanczos_mat = np.zeros((krylov_dim, krylov_dim), dtype = complex)\n",
    "    for i0 in range(krylov_dim): # diagonal-term\n",
    "        \n",
    "        lanczos_mat[i0][i0] = a_value[i0]\n",
    "    for i0 in range(krylov_dim-1):\n",
    "        lanczos_mat[i0][i0+1] = b_value[i0]\n",
    "        lanczos_mat[i0+1][i0] = b_value[i0]\n",
    "    \n",
    "    return lanczos_mat"
   ]
  },
  {
   "cell_type": "code",
   "execution_count": 36,
   "id": "b6654d7f",
   "metadata": {},
   "outputs": [
    {
     "name": "stdout",
     "output_type": "stream",
     "text": [
      "Eigenvalues: [-4.2580352  -3.9306715  -3.52633143 -3.14900567 -2.90411859 -2.57088094\n",
      " -2.18188946 -1.75951332 -1.34197492 -0.90037035 -0.43465121 -0.0214522\n",
      "  0.39731753  0.78688084  1.17729837  1.48617444  1.77192234  2.00559997\n",
      "  2.15364073  2.2499879 ]\n"
     ]
    }
   ],
   "source": [
    "lanczos_basis, a_value, b_value = LanczosIter(Ns, init_state)\n",
    "lanczos_mat = LanczosMat(krylov_dim, a_value, b_value)\n",
    "eigvals, eigvecs_lanc = LA.eigh(lanczos_mat)\n",
    "print(\"Eigenvalues:\", np.sort(eigvals))"
   ]
  },
  {
   "cell_type": "markdown",
   "id": "a6835d40",
   "metadata": {},
   "source": [
    "After solving the eigenvalues, we can quickly calculate the eigenstates of origin Hamiltonian."
   ]
  },
  {
   "cell_type": "code",
   "execution_count": 37,
   "id": "ae7dbec4",
   "metadata": {},
   "outputs": [],
   "source": [
    "dim_H = lanczos_basis[0].shape[0]\n",
    "eigvecs_full = np.zeros((dim_H, krylov_dim), dtype = complex)\n",
    "for i in range(krylov_dim):\n",
    "    psi_k = np.zeros(dim_H, dtype = complex)\n",
    "    for j in range(krylov_dim):\n",
    "        psi_k += eigvecs_lanc[j][i] * lanczos_basis[j]\n",
    "    eigvecs_full[:, i] = psi_k/np.sqrt(np.inner(np.conj(psi_k), psi_k))"
   ]
  },
  {
   "cell_type": "code",
   "execution_count": null,
   "id": "8b5d501d",
   "metadata": {},
   "outputs": [],
   "source": []
  },
  {
   "cell_type": "code",
   "execution_count": null,
   "id": "0227df47",
   "metadata": {},
   "outputs": [],
   "source": []
  },
  {
   "cell_type": "code",
   "execution_count": null,
   "id": "9370b4ec",
   "metadata": {},
   "outputs": [],
   "source": []
  },
  {
   "cell_type": "code",
   "execution_count": null,
   "id": "356d7902",
   "metadata": {},
   "outputs": [],
   "source": []
  }
 ],
 "metadata": {
  "kernelspec": {
   "display_name": ".venv",
   "language": "python",
   "name": "python3"
  },
  "language_info": {
   "codemirror_mode": {
    "name": "ipython",
    "version": 3
   },
   "file_extension": ".py",
   "mimetype": "text/x-python",
   "name": "python",
   "nbconvert_exporter": "python",
   "pygments_lexer": "ipython3",
   "version": "3.10.6"
  }
 },
 "nbformat": 4,
 "nbformat_minor": 5
}
